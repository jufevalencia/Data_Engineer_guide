{
 "cells": [
  {
   "cell_type": "code",
   "execution_count": 0,
   "metadata": {
    "application/vnd.databricks.v1+cell": {
     "cellMetadata": {
      "byteLimit": 2048000,
      "rowLimit": 10000
     },
     "inputWidgets": {},
     "nuid": "3b729610-4613-4106-8143-6fe87f3f019f",
     "showTitle": false,
     "title": ""
    },
    "pycharm": {
     "name": "#%%\n"
    }
   },
   "outputs": [
    {
     "output_type": "display_data",
     "data": {
      "text/html": [
       "\n",
       "        <div>\n",
       "            <p><b>SparkContext</b></p>\n",
       "\n",
       "            <p><a href=\"/?o=415299307594973#setting/sparkui/0420-165815-91hakux0/driver-4373477195775534542\">Spark UI</a></p>\n",
       "\n",
       "            <dl>\n",
       "              <dt>Version</dt>\n",
       "                <dd><code>v3.3.0</code></dd>\n",
       "              <dt>Master</dt>\n",
       "                <dd><code>spark://driver-proxy:7077</code></dd>\n",
       "              <dt>AppName</dt>\n",
       "                <dd><code>Databricks Shell</code></dd>\n",
       "            </dl>\n",
       "        </div>\n",
       "        "
      ]
     },
     "metadata": {
      "application/vnd.databricks.v1+output": {
       "addedWidgets": {},
       "arguments": {},
       "data": "\n        <div>\n            <p><b>SparkContext</b></p>\n\n            <p><a href=\"/?o=415299307594973#setting/sparkui/0420-165815-91hakux0/driver-4373477195775534542\">Spark UI</a></p>\n\n            <dl>\n              <dt>Version</dt>\n                <dd><code>v3.3.0</code></dd>\n              <dt>Master</dt>\n                <dd><code>spark://driver-proxy:7077</code></dd>\n              <dt>AppName</dt>\n                <dd><code>Databricks Shell</code></dd>\n            </dl>\n        </div>\n        ",
       "datasetInfos": [],
       "metadata": {},
       "removedWidgets": [],
       "textData": null,
       "type": "htmlSandbox"
      }
     }
    }
   ],
   "source": [
    "sc"
   ]
  },
  {
   "cell_type": "code",
   "execution_count": 0,
   "metadata": {
    "application/vnd.databricks.v1+cell": {
     "cellMetadata": {
      "byteLimit": 2048000,
      "rowLimit": 10000
     },
     "inputWidgets": {},
     "nuid": "de15552d-cee8-4b6a-87f8-e96ed148deda",
     "showTitle": false,
     "title": ""
    },
    "pycharm": {
     "name": "#%%\n"
    }
   },
   "outputs": [],
   "source": [
    "\n",
    "### Parte 1\n",
    "\n",
    "text_file_mascotas = sc.textFile(\"dbfs:/FileStore/mascotas.csv\")\n",
    "text_file_mascotas = text_file_mascotas.map(lambda x: x.replace(\";\", \",\"))\n",
    "text_file_personas= sc.textFile(\"dbfs:/FileStore/personas.csv\")\n",
    "text_file_personas = text_file_personas.map(lambda x: x.replace(\";\", \",\"))\n",
    "\n",
    "##  split y creacion de tuplas para\n",
    "text_file_mascotas = text_file_mascotas.map(lambda line: line.split(\",\" ))\n",
    "text_file_mascotas = text_file_mascotas.map(lambda line : (line[3], line[0] + \", \" + line[1]+ \", \" + line[2]))\n",
    "\n",
    "text_file_personas = text_file_personas.map(lambda line: line.split(\",\" ))\n",
    "text_file_personas = text_file_personas.map(lambda line : (line[0], line[1] ))"
   ]
  },
  {
   "cell_type": "code",
   "execution_count": 0,
   "metadata": {
    "application/vnd.databricks.v1+cell": {
     "cellMetadata": {
      "byteLimit": 2048000,
      "rowLimit": 10000
     },
     "inputWidgets": {},
     "nuid": "e098800b-4d36-4ce6-805e-8a2f6ce757ff",
     "showTitle": false,
     "title": ""
    },
    "pycharm": {
     "name": "#%%\n"
    }
   },
   "outputs": [
    {
     "output_type": "stream",
     "name": "stdout",
     "text": [
      "Out[2]: [(' Brian', ' Pájaro', 'Renee Scott MD'),\n (' Cassandra', ' Gato', 'Renee Scott MD'),\n (' Kristi', ' Conejo', 'Renee Scott MD'),\n (' Ryan', ' Perro', 'Renee Scott MD'),\n (' Breanna', ' Gato', 'Renee Scott MD'),\n (' Cameron', ' Perro', 'Renee Scott MD'),\n (' William', ' Hámster', 'Renee Scott MD'),\n (' Cindy', ' Perro', 'Mark Garza PhD'),\n (' Patricia', ' Gato', 'Mark Garza PhD'),\n (' Daniel', ' Conejo', 'Mark Garza PhD'),\n (' Marie', ' Tortuga', 'Mark Garza PhD'),\n (' Jeremy', ' Conejo', 'Mark Garza PhD'),\n (' Steven', ' Tortuga', 'Christopher Stewart'),\n (' Jerome', ' Perro', 'Christopher Stewart'),\n (' David', ' Conejo', 'Pamela Christensen'),\n (' Michelle', ' Tortuga', 'Pamela Christensen'),\n (' Jonathan', ' Tortuga', 'Pamela Christensen'),\n (' Joseph', ' Tortuga', 'Pamela Christensen'),\n (' Mark', ' Pez', 'Jeffrey Welch'),\n (' Catherine', ' Pez', 'Jeffrey Welch'),\n (' Wendy', ' Tortuga', 'Jeffrey Welch'),\n (' Derek', ' Gato', 'Jeffrey Welch'),\n (' Elizabeth', ' Pez', 'Daniel Hardin'),\n (' Donald', ' Hámster', 'Daniel Hardin'),\n (' Shelby', ' Tortuga', 'Daniel Hardin'),\n (' Anthony', ' Pájaro', 'Daniel Hardin'),\n (' David', ' Conejo', 'Daniel Hardin'),\n (' Mark', ' Hámster', 'Daniel Hardin'),\n (' Joshua', ' Conejo', 'Nicholas Kim'),\n (' John', ' Gato', 'Nicholas Kim'),\n (' Michael', ' Gato', 'Nicholas Kim'),\n (' Timothy', ' Gato', 'Nicholas Kim'),\n (' Debra', ' Conejo', 'Shane Arroyo'),\n (' Melvin', ' Tortuga', 'Shane Arroyo'),\n (' Michael', ' Pez', 'Shane Arroyo'),\n (' Jennifer', ' Pájaro', 'Shane Arroyo'),\n (' Christopher', ' Hámster', 'Shane Arroyo'),\n (' Cassandra', ' Tortuga', 'Shane Arroyo'),\n (' Charles', ' Gato', 'James Garcia'),\n (' Justin', ' Pez', 'James Garcia'),\n (' Darrell', ' Tortuga', 'James Garcia'),\n (' Kathy', ' Gato', 'James Garcia'),\n (' Peter', ' Perro', 'Zachary Lawson'),\n (' Amanda', ' Pájaro', 'Zachary Lawson'),\n (' Teresa', ' Conejo', 'Zachary Lawson'),\n (' Carlos', ' Pájaro', 'Zachary Lawson'),\n (' John', ' Gato', 'Zachary Lawson'),\n (' Kathy', ' Conejo', 'Stephen Ruiz'),\n (' Danielle', ' Perro', 'Stephen Ruiz'),\n (' Kimberly', ' Tortuga', 'Stephen Ruiz'),\n (' Jennifer', ' Tortuga', 'Tammy Smith'),\n (' Michelle', ' Perro', 'Tammy Smith'),\n (' Scott', ' Conejo', 'Tammy Smith'),\n (' Carolyn', ' Gato', 'Colin Cooper'),\n (' Mary', ' Tortuga', 'Colin Cooper'),\n (' Penny', ' Hámster', 'Colin Cooper'),\n (' Douglas', ' Gato', 'Colin Cooper'),\n (' Mallory', ' Conejo', 'Brandy Nguyen'),\n (' Dale', ' Tortuga', 'John Case'),\n (' Stanley', ' Conejo', 'John Case'),\n (' Justin', ' Gato', 'John Case'),\n (' Crystal', ' Tortuga', 'John Case'),\n (' Douglas', ' Tortuga', 'Paul Martinez'),\n (' Grace', ' Gato', 'Paul Martinez'),\n (' Mark', ' Tortuga', 'Paul Martinez'),\n (' Timothy', ' Tortuga', 'Paul Martinez'),\n (' William', ' Conejo', 'Paul Martinez'),\n (' William', ' Perro', 'Kristy King'),\n (' Tiffany', ' Gato', 'Kristy King'),\n (' Patricia', ' Pez', 'Kristy King'),\n (' Brittany', ' Tortuga', 'Kristy King'),\n (' Katelyn', ' Perro', 'Kristy King'),\n (' Bryan', ' Pájaro', 'Kristy King'),\n (' Karen', ' Pájaro', 'Steven Parks DDS'),\n (' James', ' Hámster', 'Steven Parks DDS'),\n (' Douglas', ' Conejo', 'Steven Parks DDS'),\n (' Susan', ' Pájaro', 'Andrea Lee'),\n (' Crystal', ' Tortuga', 'Andrea Lee'),\n (' James', ' Pájaro', 'Andrea Lee'),\n (' Kathryn', ' Hámster', 'Robert Franklin'),\n (' Carolyn', ' Hámster', 'Robert Franklin'),\n (' Geoffrey', ' Perro', 'Robert Franklin'),\n (' Tracey', ' Pez', 'Ann Fitzgerald'),\n (' Barbara', ' Perro', 'Ann Fitzgerald'),\n (' Julie', ' Perro', 'Ann Fitzgerald'),\n (' Jessica', ' Pájaro', 'Ann Fitzgerald'),\n (' Erin', ' Gato', 'Whitney Peters'),\n (' Amanda', ' Tortuga', 'Whitney Peters'),\n (' Elizabeth', ' Hámster', 'Whitney Peters'),\n (' Benjamin', ' Tortuga', 'Whitney Peters'),\n (' Jonathan', ' Perro', 'Louis Powell'),\n (' Michelle', ' Hámster', 'Louis Powell'),\n (' Joe', ' Tortuga', 'Louis Powell'),\n (' Diana', ' Gato', 'Louis Powell'),\n (' Kimberly', ' Conejo', 'Louis Powell'),\n (' Adriana', ' Conejo', 'Louis Powell'),\n (' David', ' Conejo', 'Anthony Pearson'),\n (' Robert', ' Hámster', 'Anthony Pearson'),\n (' Caitlin', ' Conejo', 'Anthony Pearson'),\n (' Jamie', ' Pez', 'Anthony Pearson'),\n (' Michael', ' Perro', 'Anthony Pearson'),\n (' Robert', ' Perro', 'Anthony Pearson'),\n (' David', ' Pájaro', 'Dr. Krista Diaz'),\n (' Angela', ' Hámster', 'Dr. Krista Diaz'),\n (' Angela', ' Pez', 'Tracy Spears'),\n (' Alexis', ' Gato', 'Tracy Spears'),\n (' Michael', ' Perro', 'Tracy Spears'),\n (' Christopher', ' Conejo', 'Tracy Spears'),\n (' Wesley', ' Pájaro', 'Justin Nunez'),\n (' Nancy', ' Hámster', 'Justin Nunez'),\n (' Stacey', ' Perro', 'Justin Nunez'),\n (' Nicholas', ' Conejo', 'Justin Nunez'),\n (' Justin', ' Gato', 'Justin Nunez'),\n (' Gina', ' Conejo', 'Justin Nunez'),\n (' Omar', ' Tortuga', 'Phillip Keith'),\n (' William', ' Hámster', 'Phillip Keith'),\n (' Seth', ' Pez', 'Phillip Keith'),\n (' Veronica', ' Hámster', 'Phillip Keith'),\n (' Brian', ' Conejo', 'Crystal Logan'),\n (' Matthew', ' Hámster', 'Crystal Logan'),\n (' Laura', ' Conejo', 'Carolyn Roberts'),\n (' Theresa', ' Perro', 'Carolyn Roberts'),\n (' Christopher', ' Tortuga', 'Carolyn Roberts'),\n (' Debbie', ' Perro', 'Anna Moran'),\n (' Kevin', ' Perro', 'Anna Moran'),\n (' Jeremy', ' Conejo', 'Anna Moran'),\n (' John', ' Conejo', 'Anna Moran'),\n (' Victoria', ' Hámster', 'Dr. Jason Delgado'),\n (' Phillip', ' Tortuga', 'Dr. Jason Delgado'),\n (' Kristina', ' Hámster', 'Dr. Jason Delgado'),\n (' Catherine', ' Pájaro', 'Dr. Jason Delgado'),\n (' Levi', ' Pez', 'Dr. Jason Delgado'),\n (' John', ' Conejo', 'Dr. Jason Delgado'),\n (' Sheri', ' Tortuga', 'Kimberly Hernandez'),\n (' Michael', ' Hámster', 'Kimberly Hernandez'),\n (' Edward', ' Pájaro', 'Kimberly Hernandez'),\n (' Sarah', ' Conejo', 'Kimberly Hernandez'),\n (' Sheila', ' Tortuga', 'Matthew Miller'),\n (' Richard', ' Perro', 'Matthew Miller'),\n (' David', ' Perro', 'Eric Mccullough'),\n (' Thomas', ' Tortuga', 'Eric Mccullough'),\n (' Jesse', ' Gato', 'Eric Mccullough'),\n (' Amy', ' Pájaro', 'Eric Mccullough'),\n (' Tracy', ' Hámster', 'Eric Mccullough'),\n (' Bill', ' Pájaro', 'Eric Mccullough'),\n (' Dana', ' Gato', 'Eric Mccullough'),\n (' James', ' Conejo', 'Eric Mccullough'),\n (' Amy', ' Perro', 'Eric Mccullough'),\n (' Heather', ' Pájaro', 'Eric Mccullough'),\n (' Chelsea', ' Gato', 'Jerry Barker'),\n (' Amanda', ' Perro', 'Jerry Barker'),\n (' Haley', ' Perro', 'Evelyn Fitzgerald'),\n (' Carl', ' Perro', 'Evelyn Fitzgerald'),\n (' Stephanie', ' Pájaro', 'Evelyn Fitzgerald'),\n (' Terri', ' Pez', 'Evelyn Fitzgerald'),\n (' Stacy', ' Conejo', 'Joshua Johnson'),\n (' Brandon', ' Hámster', 'Joshua Johnson'),\n (' Tina', ' Conejo', 'Jerry Hall'),\n (' Tiffany', ' Tortuga', 'Jerry Hall'),\n (' Lori', ' Conejo', 'Jerry Hall'),\n (' Crystal', ' Hámster', 'Jerry Hall'),\n (' Amy', ' Pez', 'James Castro'),\n (' Dana', ' Pájaro', 'James Castro'),\n (' Julie', ' Conejo', 'James Castro'),\n (' Laura', ' Perro', 'Jennifer Huerta'),\n (' Sandra', ' Pez', 'Jennifer Huerta'),\n (' Michael', ' Tortuga', 'Jennifer Huerta'),\n (' Logan', ' Hámster', 'Jennifer Huerta'),\n (' Heather', ' Pájaro', 'Lori Daniel'),\n (' Erin', ' Pájaro', 'Lori Daniel'),\n (' Marie', ' Perro', 'Lori Daniel'),\n (' Jennifer', ' Tortuga', 'Lori Daniel'),\n (' Joel', ' Pez', 'Lori Daniel'),\n (' Tina', ' Gato', 'Lori Daniel'),\n (' Randy', ' Hámster', 'Alexandra Brock'),\n (' Bobby', ' Hámster', 'Alexandra Brock'),\n (' Monica', ' Perro', 'Alexandra Brock'),\n (' Duane', ' Pez', 'Alexandra Brock'),\n (' Amanda', ' Pez', 'Alexandra Brock'),\n (' Peter', ' Pez', 'Alexandra Brock'),\n (' John', ' Gato', 'Alexandra Brock'),\n (' David', ' Conejo', 'Michael Robinson'),\n (' Mason', ' Hámster', 'Michael Robinson'),\n (' Karen', ' Conejo', 'Curtis Carlson'),\n (' Beth', ' Tortuga', 'Curtis Carlson'),\n (' Kayla', ' Hámster', 'Amanda Curry'),\n (' Jennifer', ' Conejo', 'Amanda Curry'),\n (' Susan', ' Conejo', 'Amanda Curry'),\n (' Shawn', ' Pájaro', 'Anne Dennis'),\n (' David', ' Pez', 'Jonathan Hicks'),\n (' Joel', ' Pájaro', 'Jonathan Hicks'),\n (' Jennifer', ' Pez', 'Stephanie Alexander'),\n (' Brenda', ' Pájaro', 'Stephanie Alexander'),\n (' Leah', ' Pájaro', 'Stephanie Alexander'),\n (' Judy', ' Perro', 'Stephanie Alexander'),\n (' Charles', ' Gato', 'Terrance Berger'),\n (' Shannon', ' Gato', 'Terrance Berger'),\n (' Dawn', ' Conejo', 'Terrance Berger'),\n (' Heather', ' Gato', 'Terrance Berger'),\n (' Monique', ' Tortuga', 'Terrance Berger')]"
     ]
    }
   ],
   "source": [
    "## Join entre las dos tablas para armar el dataset final\n",
    "\n",
    "\n",
    "\n",
    "join = text_file_personas.join(text_file_mascotas)\n",
    "join = join.map(lambda x : (x[0] ,x[1]))\n",
    "join1 = join.map(lambda x : (x[1][0] ,x[1][1].split(\",\")))\n",
    "join2 = join1.map(lambda x : (x[1][1] ,x[1][2] ,x[0] ))\n",
    "join2.collect()"
   ]
  },
  {
   "cell_type": "code",
   "execution_count": 0,
   "metadata": {
    "application/vnd.databricks.v1+cell": {
     "cellMetadata": {
      "byteLimit": 2048000,
      "rowLimit": 10000
     },
     "inputWidgets": {},
     "nuid": "29810d81-105a-4eb2-8457-99c7c5a9f4ef",
     "showTitle": false,
     "title": ""
    },
    "pycharm": {
     "name": "#%%\n"
    }
   },
   "outputs": [
    {
     "output_type": "stream",
     "name": "stdout",
     "text": [
      "Out[12]: [('24', 'Daniel Hardin', 6),\n ('21', 'Eric Mccullough', 10),\n ('42', 'Whitney Peters', 4),\n ('25', 'Kristy King', 6),\n ('7', 'Colin Cooper', 4),\n ('6', 'Tammy Smith', 3),\n ('28', 'James Castro', 3),\n ('43', 'Louis Powell', 6),\n ('49', 'Ann Fitzgerald', 4),\n ('27', 'Jerry Hall', 4),\n ('39', 'Michael Robinson', 2),\n ('2', 'Anne Dennis', 1),\n ('4', 'Renee Scott MD', 7),\n ('20', 'Jeffrey Welch', 4),\n ('44', 'Shane Arroyo', 6),\n ('1', 'Matthew Miller', 2),\n ('9', 'Dr. Jason Delgado', 6),\n ('19', 'Anna Moran', 4),\n ('22', 'Joshua Johnson', 2),\n ('10', 'Mark Garza PhD', 5),\n ('12', 'Christopher Stewart', 2),\n ('50', 'James Garcia', 4),\n ('33', 'Justin Nunez', 6),\n ('31', 'Andrea Lee', 3),\n ('32', 'Dr. Krista Diaz', 2),\n ('36', 'Robert Franklin', 3),\n ('3', 'Stephen Ruiz', 3),\n ('23', 'Paul Martinez', 5),\n ('35', 'Jennifer Huerta', 4),\n ('46', 'Amanda Curry', 3),\n ('11', 'Jonathan Hicks', 2),\n ('13', 'Stephanie Alexander', 4),\n ('5', 'Terrance Berger', 5),\n ('30', 'Anthony Pearson', 6),\n ('47', 'Steven Parks DDS', 3),\n ('18', 'John Case', 4),\n ('15', 'Brandy Nguyen', 1),\n ('37', 'Lori Daniel', 6),\n ('38', 'Alexandra Brock', 7),\n ('41', 'Curtis Carlson', 2),\n ('16', 'Pamela Christensen', 4),\n ('26', 'Nicholas Kim', 4),\n ('40', 'Zachary Lawson', 5),\n ('8', 'Evelyn Fitzgerald', 4),\n ('14', 'Kimberly Hernandez', 4),\n ('17', 'Jerry Barker', 2),\n ('29', 'Tracy Spears', 4),\n ('34', 'Phillip Keith', 4),\n ('45', 'Crystal Logan', 2),\n ('48', 'Carolyn Roberts', 3)]"
     ]
    }
   ],
   "source": [
    "## Parte 2\n",
    "\n",
    "\n",
    "\n",
    "## Tomamos los dataset previos ya procesados para hacer el mismo join ,  modificando los campos que necesitamos y aplicamos el reduce by key para \n",
    "## hacer el conteo de mascotas por persona.\n",
    "\n",
    "join_personas = text_file_personas.join(text_file_mascotas)\n",
    "join_personas = join_personas.map(lambda x : (x[0] ,x[1]))\n",
    "join3 = join_personas.map(lambda x : (x[0],x[1][0] ,x[1][1].split(\",\")))\n",
    "join3 = join3.map(lambda x : (x[0],x[1]))\n",
    "join3 = join3.map(lambda word: (word, 1)).reduceByKey(lambda a, b: a + b)\n",
    "joinf_final = join3.map(lambda x : (x[0][0],x[0][1],x[1]))\n",
    "joinf_final.collect()\n"
   ]
  }
 ],
 "metadata": {
  "application/vnd.databricks.v1+notebook": {
   "dashboards": [],
   "language": "python",
   "notebookMetadata": {
    "pythonIndentUnit": 4
   },
   "notebookName": "Rdd",
   "widgets": {}
  }
 },
 "nbformat": 4,
 "nbformat_minor": 0
}