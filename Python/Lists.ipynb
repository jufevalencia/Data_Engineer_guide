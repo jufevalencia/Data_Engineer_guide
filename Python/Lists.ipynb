{
 "cells": [
  {
   "cell_type": "markdown",
   "metadata": {},
   "source": [
    "Lists"
   ]
  },
  {
   "cell_type": "code",
   "execution_count": 5,
   "metadata": {},
   "outputs": [
    {
     "data": {
      "text/plain": [
       "['first', 'Second', 'third', 'Four', 'Five']"
      ]
     },
     "execution_count": 5,
     "metadata": {},
     "output_type": "execute_result"
    }
   ],
   "source": [
    "List = []\n",
    "\n",
    "## Add elements to list \n",
    "\n",
    "## Add  element to last position\n",
    "\n",
    "List.append(\"first\")\n",
    "\n",
    "\n",
    "## Add element in the indicated index\n",
    "\n",
    "List.insert(1,\"Second\") \n",
    "\n",
    "\n",
    "## Add elements  in iterable to the end of the list\n",
    "\n",
    "List.extend(['third','Four'])\n",
    "\n",
    "\n",
    "## Concatenate two lists   \n",
    "\n",
    "List = List + [\"Five\"]\n",
    "\n",
    "List"
   ]
  },
  {
   "cell_type": "markdown",
   "metadata": {},
   "source": [
    "Delete items from lists"
   ]
  },
  {
   "cell_type": "code",
   "execution_count": 15,
   "metadata": {},
   "outputs": [
    {
     "data": {
      "text/plain": [
       "[1, 2]"
      ]
     },
     "execution_count": 15,
     "metadata": {},
     "output_type": "execute_result"
    }
   ],
   "source": [
    "List = [1 ,2 ,3 , 4, 5, 6]\n",
    "\n",
    "# with pop we can remove one element from  list with the index indicated , pop drop the lates element by default\n",
    "List.pop(2)\n",
    "\n",
    "# with Clear()  we can drop all elements from list\n",
    "\n",
    "#with remove we can delete the first element by especific value , if the value exist more than one  , remove only delete the  first ocurrence\n",
    "\n",
    "List.remove(4)\n",
    "\n",
    "\n",
    "\n",
    "## another  way es using del ,  the last methods are functions from  list class , del works from another structures to \n",
    "## we can remove by index , steps , one or multiple elements\n",
    "\n",
    "del List[-2:] \n",
    "List"
   ]
  },
  {
   "cell_type": "markdown",
   "metadata": {},
   "source": [
    "Operations with lists"
   ]
  },
  {
   "cell_type": "code",
   "execution_count": 23,
   "metadata": {},
   "outputs": [
    {
     "name": "stdout",
     "output_type": "stream",
     "text": [
      "6\n",
      "True\n",
      "1\n",
      "2\n",
      "3\n",
      "4\n",
      "5\n",
      "6\n",
      "8\n",
      "9\n",
      "10\n"
     ]
    },
    {
     "data": {
      "text/plain": [
       "[1,\n",
       " 2,\n",
       " 3,\n",
       " 4,\n",
       " 5,\n",
       " 6,\n",
       " 8,\n",
       " 9,\n",
       " 10,\n",
       " 1,\n",
       " 2,\n",
       " 3,\n",
       " 4,\n",
       " 5,\n",
       " 6,\n",
       " 8,\n",
       " 9,\n",
       " 10,\n",
       " 1,\n",
       " 2,\n",
       " 3,\n",
       " 4,\n",
       " 5,\n",
       " 6,\n",
       " 8,\n",
       " 9,\n",
       " 10,\n",
       " 1,\n",
       " 2,\n",
       " 3,\n",
       " 4,\n",
       " 5,\n",
       " 6,\n",
       " 8,\n",
       " 9,\n",
       " 10,\n",
       " 1,\n",
       " 2,\n",
       " 3,\n",
       " 4,\n",
       " 5,\n",
       " 6,\n",
       " 8,\n",
       " 9,\n",
       " 10]"
      ]
     },
     "execution_count": 23,
     "metadata": {},
     "output_type": "execute_result"
    }
   ],
   "source": [
    "## len for  found lenght of the list\n",
    "\n",
    "\n",
    "List = [1 ,2 ,3 , 4, 5, 6]\n",
    "\n",
    "List_two = [8, 9, 10]\n",
    "\n",
    "\n",
    "\n",
    "print(len(List))\n",
    "\n",
    " ## concatenate two list\n",
    "    \n",
    "List = List + List_two\n",
    "\n",
    "\n",
    "## Repitition is for replicate the list a determinate number of ocations\n",
    "\n",
    "List_5 = List*5\n",
    "\n",
    "\n",
    "\n",
    "\n",
    "\n",
    "## membership is used for found  one value in the element in the list \n",
    "\n",
    "\n",
    "print (2 in List)\n",
    "\n",
    "\n",
    "##   loop in list \n",
    "\n",
    "\n",
    "for i in List :\n",
    "    print(i)\n",
    "    \n",
    "\n",
    "List_5\n",
    "\n"
   ]
  },
  {
   "cell_type": "markdown",
   "metadata": {},
   "source": [
    "Slicing"
   ]
  },
  {
   "cell_type": "code",
   "execution_count": 40,
   "metadata": {},
   "outputs": [
    {
     "name": "stdout",
     "output_type": "stream",
     "text": [
      "[2, 3, 4]\n",
      "[2, 3, 4, 5, 6]\n",
      "[1, 2, 3, 4, 5]\n",
      "[6, 4, 2]\n"
     ]
    }
   ],
   "source": [
    "## Slicing\n",
    "\n",
    "\n",
    "\n",
    "List = [1 ,2 ,3 , 4, 5, 6]\n",
    "\n",
    "\n",
    "## we can take ranges in our list , for example from the second elemnt to five\n",
    "## thr index start from 0 is important in list\n",
    "\n",
    "print(List[1:4])\n",
    "\n",
    "\n",
    "## wa can take all elements ,if not define index or if define only one side \n",
    "## for example take all elements start by two\n",
    "\n",
    "print(List[1:])\n",
    "\n",
    "\n",
    "## same example  but select all element  except the last\n",
    "\n",
    "print(List[:-1])\n",
    "\n",
    "\n",
    "## another way is using the step , to indicate the step of the slicing , 1 off time , 2 off time of the same way but in reverse\n",
    "\n",
    "print(List[::-2])\n",
    "\n",
    "\n"
   ]
  },
  {
   "cell_type": "markdown",
   "metadata": {},
   "source": [
    "Another Functions"
   ]
  },
  {
   "cell_type": "code",
   "execution_count": 56,
   "metadata": {},
   "outputs": [
    {
     "name": "stdout",
     "output_type": "stream",
     "text": [
      "6\n",
      "1\n",
      "1\n",
      "4\n"
     ]
    }
   ],
   "source": [
    "\n",
    "List = [1 ,2 ,3 , 4, 5, 6]\n",
    "\n",
    "## function to return the max of one structure  , same with the minimum element\n",
    "\n",
    "print(max(List))\n",
    "\n",
    "\n",
    "print(min(List))\n",
    "\n",
    "\n",
    "## with count  we know the number of elements  occur in  a list\n",
    "\n",
    "\n",
    "print(List.count(5))\n",
    "\n",
    "\n",
    "\n",
    "## with index we know the low index of a element in a list\n",
    "\n",
    "\n",
    "print(List.index(5))\n",
    "\n",
    "\n",
    "\n",
    "\n"
   ]
  },
  {
   "cell_type": "code",
   "execution_count": null,
   "metadata": {},
   "outputs": [],
   "source": []
  }
 ],
 "metadata": {
  "kernelspec": {
   "display_name": "Python 3",
   "language": "python",
   "name": "python3"
  },
  "language_info": {
   "codemirror_mode": {
    "name": "ipython",
    "version": 3
   },
   "file_extension": ".py",
   "mimetype": "text/x-python",
   "name": "python",
   "nbconvert_exporter": "python",
   "pygments_lexer": "ipython3",
   "version": "3.8.5"
  }
 },
 "nbformat": 4,
 "nbformat_minor": 4
}
