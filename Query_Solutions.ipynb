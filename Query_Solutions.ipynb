{
  "nbformat": 4,
  "nbformat_minor": 0,
  "metadata": {
    "colab": {
      "provenance": [],
      "authorship_tag": "ABX9TyNAhWWDYwYMs4IXe+eSRzw8",
      "include_colab_link": true
    },
    "kernelspec": {
      "name": "python3",
      "display_name": "Python 3"
    },
    "language_info": {
      "name": "python"
    }
  },
  "cells": [
    {
      "cell_type": "markdown",
      "metadata": {
        "id": "view-in-github",
        "colab_type": "text"
      },
      "source": [
        "<a href=\"https://colab.research.google.com/github/jufevalencia/Data_Engineer_guide/blob/master/Query_Solutions.ipynb\" target=\"_parent\"><img src=\"https://colab.research.google.com/assets/colab-badge.svg\" alt=\"Open In Colab\"/></a>"
      ]
    },
    {
      "cell_type": "markdown",
      "source": [
        "## SQL Querys"
      ],
      "metadata": {
        "id": "GEfSsgr3gB7q"
      }
    },
    {
      "cell_type": "markdown",
      "source": [
        "## Customer Who Visited but Did Not Make Any Transactions\n"
      ],
      "metadata": {
        "id": "aJn4BZ7jkV5M"
      }
    },
    {
      "cell_type": "markdown",
      "source": [
        "Table: Visits\n",
        "\n",
        "\n",
        "\n",
        "```\n",
        "+-------------+---------+\n",
        "| Column Name | Type    |\n",
        "+-------------+---------+\n",
        "| visit_id    | int     |\n",
        "| customer_id | int     |\n",
        "+-------------+---------+\n",
        "```\n",
        "\n",
        "\n",
        "visit_id is the column with unique values for this table.\n",
        "This table contains information about the customers who visited the mall.\n",
        "\n",
        "\n",
        "\n",
        "Table: Transactions\n",
        "```\n",
        "+----------------+---------+\n",
        "| Column Name    | Type    |\n",
        "+----------------+---------+\n",
        "| transaction_id | int     |\n",
        "| visit_id       | int     |\n",
        "| amount         | int     |\n",
        "+----------------+---------+\n",
        "```\n",
        "\n",
        "transaction_id is column with unique values for this table.\n",
        "This table contains information about the transactions made during the visit_id.\n",
        "\n",
        "\n",
        "\n",
        "Write a solution to find the IDs of the users who visited without making any transactions and the number of times they made these types of visits.\n",
        "\n",
        "Return the result table sorted in any order."
      ],
      "metadata": {
        "id": "OWxHeiVAgRUL"
      }
    },
    {
      "cell_type": "markdown",
      "source": [
        "\n",
        "\n",
        "\n",
        "```\n",
        "with no_transactions as\n",
        "(\n",
        "select visits.customer_id  , transactions.transaction_id\n",
        "from visits left join transactions\n",
        "on visits.visit_id = transactions.visit_id)\n",
        "\n",
        "select customer_id , count(1) as count_no_trans\n",
        "from no_transactions\n",
        "where transaction_id is null\n",
        "group by customer_id\n",
        "\n",
        "```"
      ],
      "metadata": {
        "id": "JClDlCHMkX9E"
      }
    },
    {
      "cell_type": "markdown",
      "source": [
        "## Resultados:\n",
        "\n",
        "\n",
        "Visits :\n",
        "\n",
        "```\n",
        "| visit_id | customer_id |\n",
        "| -------- | ----------- |\n",
        "| 1        | 23          |\n",
        "| 2        | 9           |\n",
        "| 4        | 30          |\n",
        "| 5        | 54          |\n",
        "| 6        | 96          |\n",
        "| 7        | 54          |\n",
        "```\n",
        "\n",
        "Transactions :\n",
        "\n",
        "```\n",
        "| transaction_id | visit_id | amount |\n",
        "| -------------- | -------- | ------ |\n",
        "| 2              | 5        | 310    |\n",
        "| 3              | 5        | 300    |\n",
        "| 9              | 5        | 200    |\n",
        "| 12             | 1        | 910    |\n",
        "| 13             | 2        | 970    |\n",
        "```\n",
        "Output :\n",
        "\n",
        "```\n",
        "| customer_id | count_no_trans |\n",
        "| ----------- | -------------- |\n",
        "| 30          | 1              |\n",
        "| 96          | 1              |\n",
        "| 54          | 2              |\n",
        "```"
      ],
      "metadata": {
        "id": "17wma9tpi3VX"
      }
    },
    {
      "cell_type": "markdown",
      "source": [
        "## Rising Temperature\n"
      ],
      "metadata": {
        "id": "IiqNiDEBkn-B"
      }
    },
    {
      "cell_type": "markdown",
      "source": [
        "\n",
        "\n",
        "```\n",
        "+---------------+---------+\n",
        "| Column Name   | Type    |\n",
        "+---------------+---------+\n",
        "| id            | int     |\n",
        "| recordDate    | date    |\n",
        "| temperature   | int     |\n",
        "+---------------+---------+\n",
        "\n",
        "```\n",
        "id is the column with unique values for this table.\n",
        "This table contains information about the temperature on a certain day.\n",
        "\n",
        "\n",
        "\n",
        "Write a solution to find all dates' Id with higher temperatures compared to its previous dates (yesterday).\n",
        "\n",
        "Return the result table in any order.\n",
        "\n",
        "The result format is in the following example."
      ],
      "metadata": {
        "id": "XkGf_2rvOFcY"
      }
    },
    {
      "cell_type": "markdown",
      "source": [
        "```\n",
        "SELECT w2.id\n",
        "FROM Weather w1, Weather w2\n",
        "WHERE DATEDIFF(w2.recordDate, w1.recordDate) = 1 AND w2.temperature > w1.temperature;\n",
        "```\n"
      ],
      "metadata": {
        "id": "qHeAxZLHNG0-"
      }
    },
    {
      "cell_type": "markdown",
      "source": [
        "Weather :\n",
        "\n",
        "```\n",
        "| id | recordDate | temperature |\n",
        "| -- | ---------- | ----------- |\n",
        "| 1  | 2015-01-01 | 10          |\n",
        "| 2  | 2015-01-02 | 25          |\n",
        "| 3  | 2015-01-03 | 20          |\n",
        "| 4  | 2015-01-04 | 30          |\n",
        "```\n",
        "\n",
        "Output :\n",
        "```\n",
        "| id |\n",
        "| -- |\n",
        "| 2  |\n",
        "| 4  |\n",
        "```"
      ],
      "metadata": {
        "id": "Gs5vCONBOmuu"
      }
    }
  ]
}